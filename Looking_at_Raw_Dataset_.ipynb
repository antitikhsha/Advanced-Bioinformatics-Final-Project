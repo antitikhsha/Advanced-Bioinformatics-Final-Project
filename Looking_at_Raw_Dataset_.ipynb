{
  "nbformat": 4,
  "nbformat_minor": 0,
  "metadata": {
    "colab": {
      "name": "Looking at Raw Dataset .ipynb",
      "provenance": [],
      "authorship_tag": "ABX9TyPigGsXsMFm1ZmiIO6eexyQ",
      "include_colab_link": true
    },
    "kernelspec": {
      "name": "python3",
      "display_name": "Python 3"
    },
    "language_info": {
      "name": "python"
    }
  },
  "cells": [
    {
      "cell_type": "markdown",
      "metadata": {
        "id": "view-in-github",
        "colab_type": "text"
      },
      "source": [
        "<a href=\"https://colab.research.google.com/github/antitikhsha/Advanced-Bioinformatics-Final-Project/blob/main/Looking_at_Raw_Dataset_.ipynb\" target=\"_parent\"><img src=\"https://colab.research.google.com/assets/colab-badge.svg\" alt=\"Open In Colab\"/></a>"
      ]
    },
    {
      "cell_type": "markdown",
      "metadata": {
        "id": "_PwoKdnZBkpW"
      },
      "source": [
        "# **Looking at the raw dataset**"
      ]
    },
    {
      "cell_type": "markdown",
      "metadata": {
        "id": "g15eYIIMBplU"
      },
      "source": [
        "#  *Importing Libraries*"
      ]
    },
    {
      "cell_type": "code",
      "metadata": {
        "id": "bu15Y8ksBnyN"
      },
      "source": [
        "import numpy as np\n",
        "import pandas as pd"
      ],
      "execution_count": 1,
      "outputs": []
    }
  ]
}